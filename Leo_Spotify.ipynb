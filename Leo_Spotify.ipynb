{
 "cells": [
  {
   "cell_type": "code",
   "execution_count": 1,
   "metadata": {},
   "outputs": [],
   "source": [
    "import sqlalchemy\n",
    "from sqlalchemy.ext.automap import automap_base\n",
    "from sqlalchemy.orm import Session\n",
    "from sqlalchemy import create_engine, inspect, text"
   ]
  },
  {
   "cell_type": "code",
   "execution_count": 11,
   "metadata": {},
   "outputs": [],
   "source": [
    "#Create Database Connection\n",
    "engine = create_engine(\"sqlite:///Resources/spotify_2023.sqlite\", echo=False)"
   ]
  },
  {
   "cell_type": "code",
   "execution_count": 12,
   "metadata": {},
   "outputs": [
    {
     "name": "stdout",
     "output_type": "stream",
     "text": [
      " Volume in drive C is OS\n",
      " Volume Serial Number is 32CC-3519\n",
      "\n",
      " Directory of c:\\Users\\npwol\\OneDrive\\Desktop\\leaflet-challenge\\Final-Project-Spotify\n",
      "\n",
      "10/09/2024  08:01 PM    <DIR>          .\n",
      "10/09/2024  06:41 PM    <DIR>          ..\n",
      "10/09/2024  08:01 PM            43,834 Processed.ipynb\n",
      "10/09/2024  06:41 PM                23 README.md\n",
      "10/09/2024  08:01 PM    <DIR>          Resources\n",
      "10/09/2024  08:06 PM            41,518 spotify_database_file.ipynb\n",
      "10/09/2024  08:01 PM           106,270 spotify-2023.csv\n",
      "10/09/2024  08:01 PM           294,023 spotify-2023.ipynb\n",
      "               5 File(s)        485,668 bytes\n",
      "               3 Dir(s)  807,443,673,088 bytes free\n"
     ]
    }
   ],
   "source": [
    "%ls"
   ]
  },
  {
   "cell_type": "code",
   "execution_count": 13,
   "metadata": {},
   "outputs": [
    {
     "name": "stderr",
     "output_type": "stream",
     "text": [
      "C:\\Users\\npwol\\AppData\\Local\\Temp\\ipykernel_26324\\2310885986.py:3: SADeprecationWarning: The AutomapBase.prepare.reflect parameter is deprecated and will be removed in a future release.  Reflection is enabled when AutomapBase.prepare.autoload_with is passed.\n",
      "  Base.prepare(autoload_with=engine, reflect=True)\n"
     ]
    },
    {
     "data": {
      "text/plain": [
       "['cleaned_spotify_2023']"
      ]
     },
     "execution_count": 13,
     "metadata": {},
     "output_type": "execute_result"
    }
   ],
   "source": [
    "#Refelect Database into ORM Classes\n",
    "Base = automap_base()\n",
    "Base.prepare(autoload_with=engine, reflect=True)\n",
    "Base.classes.keys()"
   ]
  }
 ],
 "metadata": {
  "kernelspec": {
   "display_name": "dev",
   "language": "python",
   "name": "python3"
  },
  "language_info": {
   "codemirror_mode": {
    "name": "ipython",
    "version": 3
   },
   "file_extension": ".py",
   "mimetype": "text/x-python",
   "name": "python",
   "nbconvert_exporter": "python",
   "pygments_lexer": "ipython3",
   "version": "3.10.14"
  }
 },
 "nbformat": 4,
 "nbformat_minor": 2
}
